{
 "cells": [
  {
   "cell_type": "markdown",
   "id": "ac0b2688",
   "metadata": {},
   "source": [
    "## chunk\n",
    "\n",
    "untuk chunking meeting sendiri, sebener e dri sono udah dichunking, cuman pada proses chunking summarize, tiap chunking itu panjang panjang"
   ]
  },
  {
   "cell_type": "code",
   "execution_count": null,
   "id": "e2cf2013",
   "metadata": {},
   "outputs": [
    {
     "name": "stdout",
     "output_type": "stream",
     "text": [
      "page_content='Ada faktor yang tidak bisa diukur dengan uang. Oke, kreativitas. Orang kalau sudah stres'\n",
      "page_content='enggak bisa kreatif, enggak bisa cari duit. Menurut model Chelios, titik terendah ekonomi Indonesia'\n"
     ]
    }
   ],
   "source": [
    "from langchain_text_splitters import RecursiveCharacterTextSplitter\n",
    "# Load example document\n",
    "with open(\"transcript-yt.txt\") as f:\n",
    "    transcript = f.read()\n",
    "\n",
    "text_splitter = RecursiveCharacterTextSplitter(\n",
    "    # Set a really small chunk size, just to show.\n",
    "    chunk_size=100,\n",
    "    chunk_overlap=20,\n",
    "    length_function=len,\n",
    "    is_separator_regex=False,\n",
    ")\n",
    "texts = text_splitter.create_documents([transcript])\n",
    "print(texts[0])\n",
    "print(texts[1])"
   ]
  },
  {
   "cell_type": "markdown",
   "id": "b5fe1a5f",
   "metadata": {},
   "source": [
    "## chunking + embedding"
   ]
  },
  {
   "cell_type": "code",
   "execution_count": null,
   "id": "0dc0d327",
   "metadata": {},
   "outputs": [],
   "source": [
    "from langchain_community.document_loaders import TextLoader\n",
    "from langchain_community.vectorstores import FAISS\n",
    "from langchain_openai import OpenAIEmbeddings\n",
    "from langchain_text_splitters import CharacterTextSplitter\n",
    "\n",
    "loader = TextLoader(\"transcript-yt.txt\")\n",
    "\n",
    "documents = loader.load()\n",
    "text_splitter = CharacterTextSplitter(chunk_size=1000, chunk_overlap=0)\n",
    "texts = text_splitter.split_documents(documents)\n",
    "embeddings = OpenAIEmbeddings()\n",
    "vectorstore = FAISS.from_documents(texts, embeddings)"
   ]
  }
 ],
 "metadata": {
  "kernelspec": {
   "display_name": "ai-service-notuly",
   "language": "python",
   "name": "python3"
  },
  "language_info": {
   "codemirror_mode": {
    "name": "ipython",
    "version": 3
   },
   "file_extension": ".py",
   "mimetype": "text/x-python",
   "name": "python",
   "nbconvert_exporter": "python",
   "pygments_lexer": "ipython3",
   "version": "3.12.11"
  }
 },
 "nbformat": 4,
 "nbformat_minor": 5
}
